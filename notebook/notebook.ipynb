{
 "cells": [
  {
   "cell_type": "code",
   "execution_count": 1,
   "metadata": {},
   "outputs": [
    {
     "data": {
      "text/plain": [
       "False"
      ]
     },
     "execution_count": 1,
     "metadata": {},
     "output_type": "execute_result"
    }
   ],
   "source": [
    "import fitz  # PyMuPDF\n",
    "import os\n",
    "from dotenv import load_dotenv\n",
    "from apify_client import ApifyClient\n",
    "\n",
    "load_dotenv()"
   ]
  },
  {
   "cell_type": "code",
   "execution_count": null,
   "metadata": {},
   "outputs": [],
   "source": [
    "# Load LLM Model\n"
   ]
  },
  {
   "cell_type": "code",
   "execution_count": null,
   "metadata": {},
   "outputs": [],
   "source": [
    "# Load Apify api"
   ]
  },
  {
   "cell_type": "code",
   "execution_count": null,
   "metadata": {},
   "outputs": [],
   "source": [
    "# Extract text from PDF\n",
    "def extract_text_from_pdf(uploaded_file):\n",
    "    doc = fitz.open(stream=uploaded_file.read(), filetype='pdf')\n",
    "    text = ''\n",
    "    for page in doc:\n",
    "        text += page.get_text()\n",
    "    return text"
   ]
  },
  {
   "cell_type": "code",
   "execution_count": null,
   "metadata": {},
   "outputs": [],
   "source": [
    "# Ask LLAMA to generate output\n",
    "def ask_llama(prompt, max_tokens=500):\n",
    "    response = llama_client.generate_completion(prompt=prompt, temperature=0.5)\n",
    "    if isinstance(response, dict) and 'choices' in response:\n",
    "        return response['choices'][0]['message']['content']\n",
    "    return response"
   ]
  },
  {
   "cell_type": "code",
   "execution_count": null,
   "metadata": {},
   "outputs": [],
   "source": [
    "# Fetch Linkedin jobs using Apify\n",
    "def fetch_linkedin_jobs(search_query, location=\"Sri Lanka\", rows=60):\n",
    "    run_input = {\n",
    "        'title': search_query,\n",
    "        'location': location,\n",
    "        'rows': rows,\n",
    "        'proxy': {\n",
    "            'useApifyProxy': True,\n",
    "            'apifyProxyGroups': ['RESIDENTIAL']\n",
    "        }\n",
    "    }\n",
    "    run = apify_client.actor('api_key_for_apify').call(run_input=run_input)\n",
    "    jobs = list(apify_client.dataset(run['defaultDatasetId']).iterate_items())\n",
    "    return jobs"
   ]
  },
  {
   "cell_type": "code",
   "execution_count": null,
   "metadata": {},
   "outputs": [],
   "source": [
    "# Fetch Naukri jobs using Apify\n",
    "def fetch_naukri_jobs(search_query, location=\"Sri Lanka\", rows=60):\n",
    "    run_input = {\n",
    "        'keyword': search_query,\n",
    "        'maxJobs': 60,\n",
    "        'freshness': 'all',\n",
    "        'sortBy': 'relevance',\n",
    "        'experience': 'all'\n",
    "    }\n",
    "    run = apify_client.actor('api_key_for_apify').call(run_input=run_input)\n",
    "    jobs = list(apify_client.dataset(run['defaultDatasetId']).iterate_items())\n",
    "    return jobs"
   ]
  }
 ],
 "metadata": {
  "kernelspec": {
   "display_name": "Python (JobFinder)",
   "language": "python",
   "name": "jobfinder"
  },
  "language_info": {
   "codemirror_mode": {
    "name": "ipython",
    "version": 3
   },
   "file_extension": ".py",
   "mimetype": "text/x-python",
   "name": "python",
   "nbconvert_exporter": "python",
   "pygments_lexer": "ipython3",
   "version": "3.10.17"
  }
 },
 "nbformat": 4,
 "nbformat_minor": 2
}
